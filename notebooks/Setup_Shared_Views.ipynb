{
 "cells": [
  {
   "cell_type": "code",
   "execution_count": null,
   "id": "e2ddfa39-08dd-4d51-8ae8-1da90fbb821d",
   "metadata": {
    "language": "sql",
    "name": "cell1"
   },
   "outputs": [],
   "source": [
    "select * from snowflake.account_usage.query_history limit 1000;\n"
   ]
  },
  {
   "cell_type": "code",
   "execution_count": null,
   "id": "3565c209-6ae8-428a-b58f-3424f94c4ef6",
   "metadata": {
    "language": "sql",
    "name": "setup_share_to_provider"
   },
   "outputs": [],
   "source": [
    "-- 1) Create the database and schema\n",
    "CREATE DATABASE IF NOT EXISTS GOLDILOX_INSIGHTS_SHARE;\n",
    "CREATE SCHEMA   IF NOT EXISTS GOLDILOX_INSIGHTS_SHARE.SHARED_TABLES;\n",
    "\n",
    "-- Copy Table data\n",
    "CREATE OR REPLACE TABLE GOLDILOX_INSIGHTS_SHARE.SHARED_TABLES.QUERY_HISTORY AS\n",
    "    SELECT * FROM GOLDILOX_INSIGHTS.SHARED_VIEWS.QUERY_HISTORY WHERE START_TIME > DATEADD('MONTH', -3, CURRENT_DATE());\n",
    "\n",
    "CREATE OR REPLACE TABLE GOLDILOX_INSIGHTS_SHARE.SHARED_TABLES.RECOMMENDATION_RESULT AS\n",
    "    SELECT * FROM GOLDILOX_INSIGHTS.SHARED_VIEWS.RECOMMENDATION_RESULT;\n",
    "\n",
    "-- 2) Create a direct share and add the table\n",
    "CREATE SHARE IF NOT EXISTS GOLDILOX_INSIGHTS_SHARE;\n",
    "\n",
    "-- Grant USAGE on the database that CONTAINS the secure view\n",
    "GRANT USAGE ON DATABASE GOLDILOX_INSIGHTS_SHARE TO SHARE GOLDILOX_INSIGHTS_SHARE;\n",
    "GRANT USAGE ON SCHEMA   GOLDILOX_INSIGHTS_SHARE.SHARED_TABLES TO SHARE GOLDILOX_INSIGHTS_SHARE;\n",
    "\n",
    "GRANT SELECT ON ALL TABLES IN SCHEMA GOLDILOX_INSIGHTS_SHARE.SHARED_TABLES   TO SHARE GOLDILOX_INSIGHTS_SHARE;\n",
    "\n",
    "-- 3) Add your provider account to the share\n",
    "ALTER SHARE GOLDILOX_INSIGHTS_SHARE ADD ACCOUNTS = SEFURGX.ALB16562;"
   ]
  }
 ],
 "metadata": {
  "kernelspec": {
   "display_name": "Streamlit Notebook",
   "name": "streamlit"
  },
  "lastEditStatus": {
   "authorEmail": "songwei@goldilox.com",
   "authorId": "7603606286947",
   "authorName": "STSAY",
   "lastEditTime": 1761255649260,
   "notebookId": "qwsldvrgzgxznocu6ihh",
   "sessionId": "f85e732e-b73e-42a3-983c-511831ce7d17"
  }
 },
 "nbformat": 4,
 "nbformat_minor": 5
}
